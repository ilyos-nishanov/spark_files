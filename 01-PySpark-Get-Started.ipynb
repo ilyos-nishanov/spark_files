{
 "cells": [
  {
   "cell_type": "code",
   "execution_count": 1,
   "id": "9a59a829-41ba-4b90-bef0-b7f44fd4bf2c",
   "metadata": {},
   "outputs": [],
   "source": [
    "# Set the PySpark environment variables\n",
    "import os\n",
    "\n",
    "os.environ['PYSPARK_DRIVER_PYTHON'] = 'jupyter'\n",
    "os.environ['PYSPARK_DRIVER_PYTHON_OPTS'] = 'lab'\n",
    "os.environ['PYSPARK_PYTHON'] = '/Library/Frameworks/Python.framework/Versions/3.12/bin/python3'\n",
    "\n"
   ]
  },
  {
   "cell_type": "code",
   "execution_count": 2,
   "id": "44fbb333-882b-4415-a60a-413cba71c414",
   "metadata": {},
   "outputs": [],
   "source": [
    "#Import PySpark\n",
    "from pyspark.sql import SparkSession"
   ]
  },
  {
   "cell_type": "code",
   "execution_count": 3,
   "id": "de6bf41c-8665-46bc-bfbe-2423d1cde2de",
   "metadata": {},
   "outputs": [
    {
     "name": "stderr",
     "output_type": "stream",
     "text": [
      "24/10/16 09:50:05 WARN Utils: Your hostname, ilyoss-MacBook-Air.local resolves to a loopback address: 127.0.0.1; using 192.168.0.104 instead (on interface en0)\n",
      "24/10/16 09:50:05 WARN Utils: Set SPARK_LOCAL_IP if you need to bind to another address\n",
      "Setting default log level to \"WARN\".\n",
      "To adjust logging level use sc.setLogLevel(newLevel). For SparkR, use setLogLevel(newLevel).\n",
      "24/10/16 09:50:05 WARN NativeCodeLoader: Unable to load native-hadoop library for your platform... using builtin-java classes where applicable\n"
     ]
    },
    {
     "name": "stderr",
     "output_type": "stream",
     "text": [
      "24/10/16 09:50:21 WARN GarbageCollectionMetrics: To enable non-built-in garbage collector(s) List(G1 Concurrent GC), users should configure it(them) to spark.eventLog.gcMetrics.youngGenerationGarbageCollectors or spark.eventLog.gcMetrics.oldGenerationGarbageCollectors\n",
      "----------------------------------------\n",
      "Exception occurred during processing of request from ('127.0.0.1', 61751)\n",
      "Traceback (most recent call last):\n",
      "  File \"/Library/Frameworks/Python.framework/Versions/3.12/lib/python3.12/socketserver.py\", line 318, in _handle_request_noblock\n",
      "    self.process_request(request, client_address)\n",
      "  File \"/Library/Frameworks/Python.framework/Versions/3.12/lib/python3.12/socketserver.py\", line 349, in process_request\n",
      "    self.finish_request(request, client_address)\n",
      "  File \"/Library/Frameworks/Python.framework/Versions/3.12/lib/python3.12/socketserver.py\", line 362, in finish_request\n",
      "    self.RequestHandlerClass(request, client_address, self)\n",
      "  File \"/Library/Frameworks/Python.framework/Versions/3.12/lib/python3.12/socketserver.py\", line 761, in __init__\n",
      "    self.handle()\n",
      "  File \"/Users/ilyosnishanov/.virtualenvs/spark/lib/python3.12/site-packages/pyspark/accumulators.py\", line 295, in handle\n",
      "    poll(accum_updates)\n",
      "  File \"/Users/ilyosnishanov/.virtualenvs/spark/lib/python3.12/site-packages/pyspark/accumulators.py\", line 267, in poll\n",
      "    if self.rfile in r and func():\n",
      "                           ^^^^^^\n",
      "  File \"/Users/ilyosnishanov/.virtualenvs/spark/lib/python3.12/site-packages/pyspark/accumulators.py\", line 271, in accum_updates\n",
      "    num_updates = read_int(self.rfile)\n",
      "                  ^^^^^^^^^^^^^^^^^^^^\n",
      "  File \"/Users/ilyosnishanov/.virtualenvs/spark/lib/python3.12/site-packages/pyspark/serializers.py\", line 596, in read_int\n",
      "    raise EOFError\n",
      "EOFError\n",
      "----------------------------------------\n"
     ]
    }
   ],
   "source": [
    "# Create a Spark Session\n",
    "spark = SparkSession.builder \\\n",
    "    .appName(\"Pyspark-Get_Started\") \\\n",
    "    .getOrCreate()"
   ]
  },
  {
   "cell_type": "code",
   "execution_count": 4,
   "id": "61e5d467-53bc-4046-97a8-3d4b4cb51484",
   "metadata": {},
   "outputs": [
    {
     "name": "stderr",
     "output_type": "stream",
     "text": [
      "                                                                                \r"
     ]
    },
    {
     "name": "stdout",
     "output_type": "stream",
     "text": [
      "+-------+---+\n",
      "|   Name|Age|\n",
      "+-------+---+\n",
      "|  Alice| 25|\n",
      "|    Bob| 30|\n",
      "|Charlie| 35|\n",
      "+-------+---+\n",
      "\n"
     ]
    }
   ],
   "source": [
    "# Test the setup\n",
    "data = [(\"Alice\", 25), (\"Bob\", 30), (\"Charlie\", 35)]\n",
    "df = spark.createDataFrame(data, [\"Name\", \"Age\"])\n",
    "df.show()"
   ]
  },
  {
   "cell_type": "markdown",
   "id": "94dda754",
   "metadata": {},
   "source": [
    "### some non-spark python practice below"
   ]
  },
  {
   "cell_type": "code",
   "execution_count": 7,
   "id": "84f02e52-df9b-47f3-97f7-4c9748f07483",
   "metadata": {},
   "outputs": [
    {
     "data": {
      "text/plain": [
       "True"
      ]
     },
     "execution_count": 7,
     "metadata": {},
     "output_type": "execute_result"
    }
   ],
   "source": [
    "word1 = 'tenet'\n",
    "word2 = 'nottenet'\n",
    "\n",
    "word1[::-1] == word1"
   ]
  },
  {
   "cell_type": "code",
   "execution_count": 11,
   "id": "634233d5",
   "metadata": {},
   "outputs": [
    {
     "name": "stdout",
     "output_type": "stream",
     "text": [
      "True\n"
     ]
    }
   ],
   "source": [
    "def addUp(ints=[],target=int):\n",
    "    myhashmap = {}\n",
    "    for int, index in enumerate(ints):\n",
    "        myhashmap[int]=index\n",
    "    for int in ints:\n",
    "        if target-int in myhashmap:\n",
    "            return True\n",
    "    return False\n",
    "print(addUp([1,2,3,4,5,6,7],12))"
   ]
  },
  {
   "cell_type": "code",
   "execution_count": 12,
   "id": "c5cb28cc",
   "metadata": {},
   "outputs": [
    {
     "name": "stdout",
     "output_type": "stream",
     "text": [
      "s\n"
     ]
    }
   ],
   "source": [
    "def nonRep(s):\n",
    "    mylist = []\n",
    "    for i in range(len(s)):\n",
    "        if s[i] not in mylist:\n",
    "            mylist.append(s[i])\n",
    "    return mylist[0]\n",
    "print(nonRep('string'))"
   ]
  },
  {
   "cell_type": "code",
   "execution_count": 19,
   "id": "36f90cb8",
   "metadata": {},
   "outputs": [
    {
     "ename": "SyntaxError",
     "evalue": "unterminated string literal (detected at line 5) (4098446236.py, line 5)",
     "output_type": "error",
     "traceback": [
      "\u001b[0;36m  Cell \u001b[0;32mIn[19], line 5\u001b[0;36m\u001b[0m\n\u001b[0;31m    myhashmap[\"i] +=1\u001b[0m\n\u001b[0m              ^\u001b[0m\n\u001b[0;31mSyntaxError\u001b[0m\u001b[0;31m:\u001b[0m unterminated string literal (detected at line 5)\n"
     ]
    }
   ],
   "source": [
    "def countints(ints=list):\n",
    "    myhashmap = {}\n",
    "    for i in ints:\n",
    "        if i not in myhashmap:\n",
    "            myhashmap[0]\n",
    "    return myhashmap\n",
    "\n",
    "print(countints([1,2,3,4,5,2,4,2,1,3,4,2,1]))"
   ]
  },
  {
   "cell_type": "code",
   "execution_count": 22,
   "id": "fdf9bb27",
   "metadata": {},
   "outputs": [
    {
     "name": "stdout",
     "output_type": "stream",
     "text": [
      "{1: 2, 2: 3, 4: 1}\n",
      "{1: 2, 2: 4, 4: 1}\n",
      "{1: 2, 2: 5, 4: 1}\n"
     ]
    },
    {
     "ename": "KeyError",
     "evalue": "0",
     "output_type": "error",
     "traceback": [
      "\u001b[0;31m---------------------------------------------------------------------------\u001b[0m",
      "\u001b[0;31mKeyError\u001b[0m                                  Traceback (most recent call last)",
      "Cell \u001b[0;32mIn[22], line 7\u001b[0m\n\u001b[1;32m      5\u001b[0m myhash[\u001b[38;5;241m2\u001b[39m] \u001b[38;5;241m+\u001b[39m\u001b[38;5;241m=\u001b[39m\u001b[38;5;241m1\u001b[39m\n\u001b[1;32m      6\u001b[0m \u001b[38;5;28mprint\u001b[39m(myhash)\n\u001b[0;32m----> 7\u001b[0m \u001b[38;5;28mprint\u001b[39m(\u001b[43mmyhash\u001b[49m\u001b[43m[\u001b[49m\u001b[38;5;241;43m0\u001b[39;49m\u001b[43m]\u001b[49m)\n",
      "\u001b[0;31mKeyError\u001b[0m: 0"
     ]
    }
   ],
   "source": [
    "myhash={1:2,2:3,4:1}\n",
    "print(myhash)\n",
    "myhash[2] +=1\n",
    "print(myhash)\n",
    "myhash[2] +=1\n",
    "print(myhash)"
   ]
  }
 ],
 "metadata": {
  "kernelspec": {
   "display_name": "spark",
   "language": "python",
   "name": "python3"
  },
  "language_info": {
   "codemirror_mode": {
    "name": "ipython",
    "version": 3
   },
   "file_extension": ".py",
   "mimetype": "text/x-python",
   "name": "python",
   "nbconvert_exporter": "python",
   "pygments_lexer": "ipython3",
   "version": "3.12.4"
  }
 },
 "nbformat": 4,
 "nbformat_minor": 5
}
