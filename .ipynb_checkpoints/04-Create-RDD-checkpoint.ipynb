{
 "cells": [
  {
   "cell_type": "code",
   "execution_count": 1,
   "id": "c1529c4c-9471-4cff-8a53-ecc9dd61fd81",
   "metadata": {},
   "outputs": [],
   "source": [
    "from pyspark.sql import SparkSession"
   ]
  },
  {
   "cell_type": "code",
   "execution_count": 2,
   "id": "e6e8676e-7965-4bce-b602-f51877bd3919",
   "metadata": {},
   "outputs": [
    {
     "name": "stderr",
     "output_type": "stream",
     "text": [
      "24/09/30 11:21:29 WARN Utils: Your hostname, ilyoss-MacBook-Air.local resolves to a loopback address: 127.0.0.1; using 192.168.0.105 instead (on interface en0)\n",
      "24/09/30 11:21:29 WARN Utils: Set SPARK_LOCAL_IP if you need to bind to another address\n",
      "Setting default log level to \"WARN\".\n",
      "To adjust logging level use sc.setLogLevel(newLevel). For SparkR, use setLogLevel(newLevel).\n",
      "24/09/30 11:21:30 WARN NativeCodeLoader: Unable to load native-hadoop library for your platform... using builtin-java classes where applicable\n",
      "24/09/30 11:21:30 WARN Utils: Service 'SparkUI' could not bind on port 4040. Attempting port 4041.\n",
      "24/09/30 11:21:41 WARN GarbageCollectionMetrics: To enable non-built-in garbage collector(s) List(G1 Concurrent GC), users should configure it(them) to spark.eventLog.gcMetrics.youngGenerationGarbageCollectors or spark.eventLog.gcMetrics.oldGenerationGarbageCollectors\n"
     ]
    }
   ],
   "source": [
    "spark = SparkSession.builder.appName(\"RDD-Demo\").getOrCreate()"
   ]
  },
  {
   "cell_type": "code",
   "execution_count": 3,
   "id": "686962af-d75d-4a81-a46f-f678d73a74f2",
   "metadata": {},
   "outputs": [],
   "source": [
    "## How to create RDDs"
   ]
  },
  {
   "cell_type": "code",
   "execution_count": 4,
   "id": "9d16fac3-bee9-4a81-acf7-1dac4e3bf7ad",
   "metadata": {},
   "outputs": [],
   "source": [
    "numbers = [1,2,3,4,50]\n",
    "rdd = spark.sparkContext.parallelize(numbers)"
   ]
  },
  {
   "cell_type": "code",
   "execution_count": 5,
   "id": "d8ef37f7-b0d3-4323-b440-e53155667d25",
   "metadata": {},
   "outputs": [],
   "source": [
    "#rdd above is lazy, it may not even be created yet. until you call some action"
   ]
  },
  {
   "cell_type": "code",
   "execution_count": 7,
   "id": "35c64b28-42bf-44e3-8878-60cf16206b57",
   "metadata": {},
   "outputs": [
    {
     "name": "stderr",
     "output_type": "stream",
     "text": [
      "                                                                                \r"
     ]
    },
    {
     "data": {
      "text/plain": [
       "[1, 2, 3, 4, 50]"
      ]
     },
     "execution_count": 7,
     "metadata": {},
     "output_type": "execute_result"
    }
   ],
   "source": [
    "#call collect action\n",
    "rdd.collect()"
   ]
  },
  {
   "cell_type": "code",
   "execution_count": 8,
   "id": "e81ec915-ddae-4208-b46f-6aa78aff9d54",
   "metadata": {},
   "outputs": [],
   "source": [
    "#create an rdd from a list of tuples\n",
    "data = [(\"alice\",25),(\"bob\",98), (\"carl\", 99)]\n",
    "rdd = spark.sparkContext.parallelize(data)"
   ]
  },
  {
   "cell_type": "code",
   "execution_count": 9,
   "id": "c0a927ef-d814-4c22-bc80-aa36b293e017",
   "metadata": {},
   "outputs": [
    {
     "data": {
      "text/plain": [
       "[('alice', 25), ('bob', 98), ('carl', 99)]"
      ]
     },
     "execution_count": 9,
     "metadata": {},
     "output_type": "execute_result"
    }
   ],
   "source": [
    "rdd.collect()"
   ]
  },
  {
   "cell_type": "code",
   "execution_count": 11,
   "id": "946afeb2-ea67-4f6f-8e13-0e8f3e13d725",
   "metadata": {},
   "outputs": [
    {
     "data": {
      "text/plain": [
       "3"
      ]
     },
     "execution_count": 11,
     "metadata": {},
     "output_type": "execute_result"
    }
   ],
   "source": [
    "#rdd actions\n",
    "rdd.count()"
   ]
  },
  {
   "cell_type": "code",
   "execution_count": 12,
   "id": "497d37d2-0a7f-4924-9f15-f34538e46959",
   "metadata": {},
   "outputs": [
    {
     "data": {
      "text/plain": [
       "('alice', 25)"
      ]
     },
     "execution_count": 12,
     "metadata": {},
     "output_type": "execute_result"
    }
   ],
   "source": [
    "rdd.first()"
   ]
  },
  {
   "cell_type": "code",
   "execution_count": 13,
   "id": "11d4b49d-fd90-4f84-9b0b-66f1a2db8e37",
   "metadata": {},
   "outputs": [
    {
     "data": {
      "text/plain": [
       "[('alice', 25), ('bob', 98)]"
      ]
     },
     "execution_count": 13,
     "metadata": {},
     "output_type": "execute_result"
    }
   ],
   "source": [
    "rdd.take(2)"
   ]
  },
  {
   "cell_type": "code",
   "execution_count": 18,
   "id": "167777ee-d1b7-477a-8244-7a8b8b217952",
   "metadata": {},
   "outputs": [],
   "source": [
    "## rdd transformations (lazy)"
   ]
  },
  {
   "cell_type": "code",
   "execution_count": null,
   "id": "18a3ad5a-8e08-49e3-bbb1-77b14aa396ce",
   "metadata": {},
   "outputs": [],
   "source": [
    "#map transformation"
   ]
  },
  {
   "cell_type": "code",
   "execution_count": 15,
   "id": "d465c5ea-c949-488d-8926-808c17f0ae50",
   "metadata": {},
   "outputs": [],
   "source": [
    "mapped_rdd = rdd.map(lambda x: (x[0].upper(),x[1]))"
   ]
  },
  {
   "cell_type": "code",
   "execution_count": 16,
   "id": "754bcb13-b421-4fc0-9530-60d84e19a418",
   "metadata": {},
   "outputs": [],
   "source": [
    "result = mapped_rdd.collect()"
   ]
  },
  {
   "cell_type": "code",
   "execution_count": 17,
   "id": "4fb0a92e-a689-4eaf-a3a4-3c20b5e8f566",
   "metadata": {},
   "outputs": [
    {
     "data": {
      "text/plain": [
       "[('ALICE', 25), ('BOB', 98), ('CARL', 99)]"
      ]
     },
     "execution_count": 17,
     "metadata": {},
     "output_type": "execute_result"
    }
   ],
   "source": [
    "result"
   ]
  },
  {
   "cell_type": "code",
   "execution_count": 19,
   "id": "846ebbb4-4873-4a4c-8bc6-58be0dd09ccb",
   "metadata": {},
   "outputs": [],
   "source": [
    "#filter transformation"
   ]
  },
  {
   "cell_type": "code",
   "execution_count": 20,
   "id": "917f9860-b731-4ec1-8e68-72e1f4a445f9",
   "metadata": {},
   "outputs": [
    {
     "data": {
      "text/plain": [
       "[('bob', 98), ('carl', 99)]"
      ]
     },
     "execution_count": 20,
     "metadata": {},
     "output_type": "execute_result"
    }
   ],
   "source": [
    "filtered_rdd = rdd.filter(lambda x: x[1]>30)\n",
    "filtered_rdd.collect()"
   ]
  },
  {
   "cell_type": "code",
   "execution_count": 21,
   "id": "8b1ac563-82dc-4897-a778-70ba7ecea702",
   "metadata": {},
   "outputs": [],
   "source": [
    "#aggregation transofrmations"
   ]
  },
  {
   "cell_type": "code",
   "execution_count": 22,
   "id": "1942ecb1-6970-4c2e-a2ec-4f07c40379b1",
   "metadata": {},
   "outputs": [
    {
     "data": {
      "text/plain": [
       "[('alice', 25), ('bob', 98), ('carl', 99)]"
      ]
     },
     "execution_count": 22,
     "metadata": {},
     "output_type": "execute_result"
    }
   ],
   "source": [
    "#ReduceByKey\n",
    "reduced_rdd = rdd.reduceByKey(lambda x, y: x+y)\n",
    "reduced_rdd.collect()"
   ]
  },
  {
   "cell_type": "code",
   "execution_count": 23,
   "id": "1375f30b-6ab0-45b3-9850-083d01ac305a",
   "metadata": {},
   "outputs": [
    {
     "data": {
      "text/plain": [
       "[('carl', 99), ('bob', 98), ('alice', 25)]"
      ]
     },
     "execution_count": 23,
     "metadata": {},
     "output_type": "execute_result"
    }
   ],
   "source": [
    "#sortBy\n",
    "sorted_rdd = rdd.sortBy(lambda x: x[1], ascending=False)\n",
    "sorted_rdd.collect()"
   ]
  },
  {
   "cell_type": "code",
   "execution_count": 24,
   "id": "c1cc9263-d9dd-444a-8674-4c99a8273fef",
   "metadata": {},
   "outputs": [],
   "source": [
    "## read RDD's to and from text files"
   ]
  },
  {
   "cell_type": "code",
   "execution_count": 26,
   "id": "45496ce9-ac74-4e17-a957-8a26c9a192ca",
   "metadata": {},
   "outputs": [
    {
     "data": {
      "text/plain": [
       "[('alice', 25), ('bob', 98), ('carl', 99)]"
      ]
     },
     "execution_count": 26,
     "metadata": {},
     "output_type": "execute_result"
    }
   ],
   "source": [
    "rdd.collect()"
   ]
  },
  {
   "cell_type": "code",
   "execution_count": 29,
   "id": "91356360-45ec-4ff2-884a-4e4e115d295e",
   "metadata": {},
   "outputs": [
    {
     "data": {
      "text/plain": [
       "[\"('bob', 98)\", \"('alice', 25)\", \"('carl', 99)\"]"
      ]
     },
     "execution_count": 29,
     "metadata": {},
     "output_type": "execute_result"
    }
   ],
   "source": [
    "#create rdd from text file\n",
    "rdd_text = spark.sparkContext.textFile(\"output.txt\")\n",
    "rdd_text.collect()"
   ]
  },
  {
   "cell_type": "code",
   "execution_count": 30,
   "id": "13baac29-3b68-4708-9a5d-de3403e6a244",
   "metadata": {},
   "outputs": [],
   "source": [
    "spark.stop()"
   ]
  },
  {
   "cell_type": "code",
   "execution_count": null,
   "id": "7a210d86-3f4b-4b4d-9d04-04f1ccf07f05",
   "metadata": {},
   "outputs": [],
   "source": []
  }
 ],
 "metadata": {
  "kernelspec": {
   "display_name": "Python 3.12 (System)",
   "language": "python",
   "name": "python3-system"
  },
  "language_info": {
   "codemirror_mode": {
    "name": "ipython",
    "version": 3
   },
   "file_extension": ".py",
   "mimetype": "text/x-python",
   "name": "python",
   "nbconvert_exporter": "python",
   "pygments_lexer": "ipython3",
   "version": "3.12.4"
  }
 },
 "nbformat": 4,
 "nbformat_minor": 5
}
